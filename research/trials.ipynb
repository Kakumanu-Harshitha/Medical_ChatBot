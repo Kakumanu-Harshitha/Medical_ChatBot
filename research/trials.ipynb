{
 "cells": [
  {
   "cell_type": "markdown",
   "id": "664f6266",
   "metadata": {},
   "source": [
    "# Import Libraries\n"
   ]
  },
  {
   "cell_type": "code",
   "execution_count": 7,
   "id": "7118f744",
   "metadata": {},
   "outputs": [
    {
     "data": {
      "text/plain": [
       "True"
      ]
     },
     "execution_count": 7,
     "metadata": {},
     "output_type": "execute_result"
    }
   ],
   "source": [
    "from langchain.document_loaders import PyPDFLoader,DirectoryLoader\n",
    "from langchain.text_splitter import RecursiveCharacterTextSplitter\n",
    "from langchain.embeddings import HuggingFaceEmbeddings\n",
    "from langchain_pinecone import PineconeVectorStore  \n",
    "from langchain.prompts import PromptTemplate\n",
    "from langchain.llms import HuggingFacePipeline\n",
    "from langchain.chains import RetrievalQA\n",
    "import torch\n",
    "from transformers import AutoTokenizer, AutoModelForCausalLM, pipeline\n",
    "from dotenv import load_dotenv\n",
    "import os\n",
    "load_dotenv()"
   ]
  },
  {
   "cell_type": "markdown",
   "id": "283e833b",
   "metadata": {},
   "source": []
  },
  {
   "cell_type": "markdown",
   "id": "d639fff0",
   "metadata": {},
   "source": [
    "# Extract text from PDF files"
   ]
  },
  {
   "cell_type": "code",
   "execution_count": null,
   "id": "3fc99563",
   "metadata": {},
   "outputs": [],
   "source": [
    "\n",
    "def load_pdf_files(data):\n",
    "    loader = DirectoryLoader(\n",
    "        data,\n",
    "        glob=\"*.pdf\",\n",
    "        loader_cls=PyPDFLoader\n",
    "    )\n",
    "    \n",
    "    documents = loader.load()\n",
    "    return documents"
   ]
  },
  {
   "cell_type": "code",
   "execution_count": 9,
   "id": "11349c5c",
   "metadata": {},
   "outputs": [],
   "source": [
    "extracted_data=load_pdf_files(\"../data\")"
   ]
  },
  {
   "cell_type": "code",
   "execution_count": 10,
   "id": "fe7a36f5",
   "metadata": {},
   "outputs": [
    {
     "data": {
      "text/plain": [
       "Document(metadata={'producer': 'PDFlib+PDI 5.0.0 (SunOS)', 'creator': 'PyPDF', 'creationdate': '2004-12-18T17:00:02-05:00', 'moddate': '2004-12-18T16:15:31-06:00', 'source': '..\\\\data\\\\Medical_book.pdf', 'total_pages': 637, 'page': 10, 'page_label': '11'}, page_content='Rhonda Cloos, R.N.\\nMedical Writer\\nAustin, TX\\nGloria Cooksey, C.N.E\\nMedical Writer\\nSacramento, CA\\nAmy Cooper, M.A., M.S.I.\\nMedical Writer\\nVermillion, SD\\nDavid A. Cramer, M.D.\\nMedical Writer\\nChicago, IL\\nEsther Csapo Rastega, R.N., B.S.N.\\nMedical Writer\\nHolbrook, MA\\nArnold Cua, M.D.\\nPhysician\\nBrooklyn, NY\\nTish Davidson, A.M.\\nMedical Writer\\nFremont, California\\nDominic De Bellis, Ph.D.\\nMedical Writer/Editor\\nMahopac, NY\\nLori De Milto\\nMedical Writer\\nSicklerville, NJ\\nRobert S. Dinsmoor\\nMedical Writer\\nSouth Hamilton, MA\\nStephanie Dionne, B.S.\\nMedical Writer\\nAnn Arbor, MI\\nMartin W. Dodge, Ph.D.\\nTechnical Writer/Editor\\nCentinela Hospital and Medical\\nCenter\\nInglewood, CA\\nDavid Doermann\\nMedical Writer\\nSalt Lake City, UT\\nStefanie B. N. Dugan, M.S.\\nGenetic Counselor\\nMilwaukee, WI\\nDoug Dupler, M.A.\\nScience Writer\\nBoulder, CO\\nJulie A. Gelderloos\\nBiomedical Writer\\nPlaya del Rey, CA\\nGary Gilles, M.A.\\nMedical Writer\\nWauconda, IL\\nHarry W. Golden\\nMedical Writer\\nShoreline Medical Writers\\nOld Lyme, CT\\nDebra Gordon\\nMedical Writer\\nNazareth, PA\\nMegan Gourley\\nWriter\\nGermantown, MD\\nJill Granger, M.S.\\nSenior Research Associate\\nUniversity of Michigan\\nAnn Arbor, MI\\nAlison Grant\\nMedical Writer\\nAverill Park, NY\\nElliot Greene, M.A.\\nformer president, American\\nMassage Therapy Association\\nMassage Therapist\\nSilver Spring, MD\\nPeter Gregutt\\nWriter\\nAsheville, NC\\nLaith F. Gulli, M.D.\\nM.Sc., M.Sc.(MedSci), M.S.A.,\\nMsc.Psych, MRSNZ\\nFRSH, FRIPHH, FAIC, FZS\\nDAPA, DABFC, DABCI\\nConsultant Psychotherapist in\\nPrivate Practice\\nLathrup Village, MI\\nKapil Gupta, M.D.\\nMedical Writer\\nWinston-Salem, NC\\nMaureen Haggerty\\nMedical Writer\\nAmbler, PA\\nClare Hanrahan\\nMedical Writer\\nAsheville, NC\\nThomas Scott Eagan\\nStudent Researcher\\nUniversity of Arizona\\nTucson, AZ\\nAltha Roberts Edgren\\nMedical Writer\\nMedical Ink\\nSt. Paul, MN\\nKaren Ericson, R.N.\\nMedical Writer\\nEstes Park, CO\\nL. Fleming Fallon Jr., M.D.,\\nDr.PH\\nAssociate Professor of Public\\nHealth\\nBowling Green State University\\nBowling Green, OH\\nFaye Fishman, D.O.\\nPhysician\\nRandolph, NJ\\nJanis Flores\\nMedical Writer\\nLexikon Communications\\nSebastopol, CA\\nRisa Flynn\\nMedical Writer\\nCulver City, CA\\nPaula Ford-Martin\\nMedical Writer\\nChaplin, MN\\nJanie F. Franz\\nWriter\\nGrand Forks, ND\\nSallie Freeman, Ph.D., B.S.N.\\nMedical Writer\\nAtlanta, GA\\nRebecca J. Frey, Ph.D.\\nResearch and Administrative\\nAssociate\\nEast Rock Institute\\nNew Haven, CT\\nCynthia L. Frozena, R.N.\\nNurse, Medical Writer\\nManitowoc, WI\\nRon Gasbarro, Pharm.D.\\nMedical Writer\\nNew Milford, PA\\nGALE ENCYCLOPEDIA OF MEDICINE 2XIV\\nContributors')"
      ]
     },
     "execution_count": 10,
     "metadata": {},
     "output_type": "execute_result"
    }
   ],
   "source": [
    "extracted_data[10]"
   ]
  },
  {
   "cell_type": "code",
   "execution_count": null,
   "id": "f1ea51bd",
   "metadata": {},
   "outputs": [
    {
     "data": {
      "text/plain": [
       "637"
      ]
     },
     "execution_count": 5,
     "metadata": {},
     "output_type": "execute_result"
    }
   ],
   "source": [
    "len(extracted_data)"
   ]
  },
  {
   "cell_type": "markdown",
   "id": "1bb2b4b4",
   "metadata": {},
   "source": [
    "# filter_to_minimal_documents"
   ]
  },
  {
   "cell_type": "code",
   "execution_count": 11,
   "id": "34cb5967",
   "metadata": {},
   "outputs": [],
   "source": [
    "from typing import List\n",
    "from langchain.schema import Document\n",
    "def filter_to_minimal_docs(docs: List[Document]) -> List[Document]:\n",
    "    \"\"\"\n",
    "    Given a list of Document objects, return a new list of Document objects\n",
    "    containing only 'source' in metadata and the original page_content.\n",
    "    \"\"\"\n",
    "    minimal_docs: list[Document] = []\n",
    "    for doc in docs:\n",
    "        src = doc.metadata.get(\"source\")\n",
    "        minimal_docs.append(\n",
    "            Document(\n",
    "                page_content=doc.page_content,\n",
    "                metadata={\"source\": src},\n",
    "            )\n",
    "        )\n",
    "    \n",
    "    return minimal_docs"
   ]
  },
  {
   "cell_type": "code",
   "execution_count": 12,
   "id": "081748af",
   "metadata": {},
   "outputs": [],
   "source": [
    "minimal_docs=filter_to_minimal_docs(extracted_data)"
   ]
  },
  {
   "cell_type": "markdown",
   "id": "14d3b46f",
   "metadata": {},
   "source": [
    "\n",
    "# Split the documents into smaller chunks"
   ]
  },
  {
   "cell_type": "code",
   "execution_count": null,
   "id": "aa7475d8",
   "metadata": {},
   "outputs": [],
   "source": [
    "\n",
    "def text_split(minimal_docs):\n",
    "    text_splitter = RecursiveCharacterTextSplitter(\n",
    "        chunk_size=500,\n",
    "        chunk_overlap=20\n",
    "    )\n",
    "    texts_chunks= text_splitter.split_documents(minimal_docs)\n",
    "    return texts_chunks"
   ]
  },
  {
   "cell_type": "code",
   "execution_count": 14,
   "id": "ca46763e",
   "metadata": {},
   "outputs": [
    {
     "name": "stdout",
     "output_type": "stream",
     "text": [
      "Number of chunks:5859\n"
     ]
    }
   ],
   "source": [
    "texts_chunks = text_split(minimal_docs)\n",
    "print(f\"Number of chunks:{len(texts_chunks)}\")"
   ]
  },
  {
   "cell_type": "markdown",
   "id": "1a711ae9",
   "metadata": {},
   "source": [
    "# Vector Embeddings"
   ]
  },
  {
   "cell_type": "code",
   "execution_count": 15,
   "id": "8d038417",
   "metadata": {},
   "outputs": [],
   "source": [
    "def download_hugging_face_embeddings():\n",
    "    embeddings = HuggingFaceEmbeddings(model_name=\"sentence-transformers/all-MiniLM-L6-v2\")\n",
    "    return embeddings\n"
   ]
  },
  {
   "cell_type": "code",
   "execution_count": 16,
   "id": "a94ce1d9",
   "metadata": {},
   "outputs": [
    {
     "name": "stderr",
     "output_type": "stream",
     "text": [
      "C:\\Users\\admin\\AppData\\Local\\Temp\\ipykernel_6324\\1001347487.py:2: LangChainDeprecationWarning: The class `HuggingFaceEmbeddings` was deprecated in LangChain 0.2.2 and will be removed in 1.0. An updated version of the class exists in the :class:`~langchain-huggingface package and should be used instead. To use it run `pip install -U :class:`~langchain-huggingface` and import as `from :class:`~langchain_huggingface import HuggingFaceEmbeddings``.\n",
      "  embeddings = HuggingFaceEmbeddings(model_name=\"sentence-transformers/all-MiniLM-L6-v2\")\n"
     ]
    }
   ],
   "source": [
    "embeddings = download_hugging_face_embeddings()"
   ]
  },
  {
   "cell_type": "code",
   "execution_count": 17,
   "id": "e644624a",
   "metadata": {},
   "outputs": [],
   "source": [
    "query_text = \"What is a common allergy?\"\n",
    "embedding_vector = embeddings.embed_query(query_text)"
   ]
  },
  {
   "cell_type": "code",
   "execution_count": 18,
   "id": "78717d28",
   "metadata": {},
   "outputs": [
    {
     "name": "stdout",
     "output_type": "stream",
     "text": [
      "Sample of the embedding vector (first 20 numbers):\n",
      "[0.04702260345220566, -0.006634933408349752, -0.01139666885137558, -0.031360842287540436, 0.033007990568876266, 0.03826579824090004, 0.07354530692100525, 0.08192341774702072, -0.08451011031866074, 0.027469314634799957, 0.0592004731297493, -0.06414079666137695, -0.026036029681563377, 0.05833462253212929, -0.04474414139986038, 0.06623373180627823, -0.011161021888256073, -0.023217888548970222, 0.014017648063600063, -0.05721267685294151]\n"
     ]
    }
   ],
   "source": [
    "print(\"Sample of the embedding vector (first 20 numbers):\")\n",
    "print(embedding_vector[:20])"
   ]
  },
  {
   "cell_type": "markdown",
   "id": "281686d9",
   "metadata": {},
   "source": [
    "# Storing Embeddings in Pinecone"
   ]
  },
  {
   "cell_type": "code",
   "execution_count": 19,
   "id": "d15b7450",
   "metadata": {},
   "outputs": [],
   "source": [
    "\n",
    "PINECONE_API_KEY = os.getenv(\"PINECONE_API_KEY\")\n",
    "OPENAI_API_KEY = os.getenv(\"OPENAI_API_KEY\")\n"
   ]
  },
  {
   "cell_type": "code",
   "execution_count": 20,
   "id": "661a9815",
   "metadata": {},
   "outputs": [],
   "source": [
    "index_name = \"medical-chatbot\""
   ]
  },
  {
   "cell_type": "code",
   "execution_count": null,
   "id": "cd1bf65e",
   "metadata": {},
   "outputs": [],
   "source": [
    "vector_store = PineconeVectorStore.from_documents(\n",
    "    texts_chunks,\n",
    "    embeddings,\n",
    "    index_name=index_name\n",
    ")"
   ]
  },
  {
   "cell_type": "code",
   "execution_count": 21,
   "id": "81798c5d",
   "metadata": {},
   "outputs": [
    {
     "name": "stdout",
     "output_type": "stream",
     "text": [
      "Connecting to existing index in Pinecone...\n",
      "Connection successful!\n"
     ]
    }
   ],
   "source": [
    "print(\"Connecting to existing index in Pinecone...\")\n",
    "vector_store = PineconeVectorStore.from_existing_index(\n",
    "    index_name,\n",
    "    embeddings\n",
    ")\n",
    "print(\"Connection successful!\")"
   ]
  },
  {
   "cell_type": "markdown",
   "id": "e4fce843",
   "metadata": {},
   "source": [
    "# Similarity Search & Retrieval"
   ]
  },
  {
   "cell_type": "code",
   "execution_count": 22,
   "id": "6a623c38",
   "metadata": {},
   "outputs": [],
   "source": [
    "retriever = vector_store.as_retriever(search_type=\"similarity\", search_kwargs={\"k\":3})"
   ]
  },
  {
   "cell_type": "code",
   "execution_count": 23,
   "id": "5f8aa193",
   "metadata": {},
   "outputs": [
    {
     "data": {
      "text/plain": [
       "[Document(id='1811b710-fbe5-43b2-8394-d83e0536b4c5', metadata={'source': '..\\\\data\\\\Medical_book.pdf'}, page_content='GALE ENCYCLOPEDIA OF MEDICINE 226\\nAcne\\nGEM - 0001 to 0432 - A  10/22/03 1:41 PM  Page 26'),\n",
       " Document(id='d4a1434f-3129-432c-a390-1e9117f54591', metadata={'source': '..\\\\data\\\\Medical_book.pdf'}, page_content='GALE ENCYCLOPEDIA OF MEDICINE 2 25\\nAcne\\nAcne vulgaris affecting a woman’s face. Acne is the general\\nname given to a skin disorder in which the sebaceous\\nglands become inflamed. (Photograph by Biophoto Associ-\\nates, Photo Researchers, Inc. Reproduced by permission.)\\nGEM - 0001 to 0432 - A  10/22/03 1:41 PM  Page 25'),\n",
       " Document(id='ea02179f-578f-49a5-b56d-a4bcaa38bdc4', metadata={'source': '..\\\\data\\\\Medical_book.pdf'}, page_content='Acidosis see Respiratory acidosis; Renal\\ntubular acidosis; Metabolic acidosis\\nAcne\\nDefinition\\nAcne is a common skin disease characterized by\\npimples on the face, chest, and back. It occurs when the\\npores of the skin become clogged with oil, dead skin\\ncells, and bacteria.\\nDescription\\nAcne vulgaris, the medical term for common acne, is\\nthe most common skin disease. It affects nearly 17 million\\npeople in the United States. While acne can arise at any')]"
      ]
     },
     "execution_count": 23,
     "metadata": {},
     "output_type": "execute_result"
    }
   ],
   "source": [
    "retrieved_docs = retriever.invoke(\"What is Acne?\")\n",
    "retrieved_docs"
   ]
  },
  {
   "cell_type": "code",
   "execution_count": 24,
   "id": "07453e89",
   "metadata": {},
   "outputs": [],
   "source": [
    "from langchain.chains import create_retrieval_chain\n",
    "from langchain.chains.combine_documents import create_stuff_documents_chain\n",
    "from langchain_core.prompts import ChatPromptTemplate"
   ]
  },
  {
   "cell_type": "code",
   "execution_count": null,
   "id": "9406c2d1",
   "metadata": {},
   "outputs": [],
   "source": [
    "from langchain_openai import ChatOpenAI\n",
    "chatModel = ChatOpenAI(model=\"gpt-4o\")"
   ]
  },
  {
   "cell_type": "code",
   "execution_count": 25,
   "id": "6f38067e",
   "metadata": {},
   "outputs": [],
   "source": [
    "system_prompt = (\n",
    "    \"You are an Medical assistant for question-answering tasks. \"\n",
    "    \"Use the following pieces of retrieved context to answer \"\n",
    "    \"the question. If you don't know the answer, say that you \"\n",
    "    \"don't know. Use three sentences maximum and keep the \"\n",
    "    \"answer concise.\"\n",
    "    \"\\n\\n\"\n",
    "    \"{context}\"\n",
    ")\n",
    "\n",
    "\n",
    "prompt = ChatPromptTemplate.from_messages(\n",
    "    [\n",
    "        (\"system\", system_prompt),\n",
    "        (\"human\", \"{input}\"),\n",
    "    ]\n",
    ")"
   ]
  },
  {
   "cell_type": "code",
   "execution_count": 28,
   "id": "8890187c",
   "metadata": {},
   "outputs": [],
   "source": [
    "question_answer_chain = create_stuff_documents_chain(chatModel, prompt)\n",
    "rag_chain = create_retrieval_chain(retriever, question_answer_chain)"
   ]
  },
  {
   "cell_type": "markdown",
   "id": "fc401e9f",
   "metadata": {},
   "source": [
    "# TESTING"
   ]
  },
  {
   "cell_type": "code",
   "execution_count": null,
   "id": "d4a377bd",
   "metadata": {},
   "outputs": [
    {
     "name": "stdout",
     "output_type": "stream",
     "text": [
      "Acromegaly is a disorder caused by the abnormal release of chemicals from the pituitary gland, leading to increased growth in bones and soft tissues. It occurs after bone growth has stopped. When this abnormality happens before growth stops, it results in gigantism, characterized by unusual height\n"
     ]
    }
   ],
   "source": [
    "response = rag_chain.invoke({\"input\": \"what is Acromegaly and gigantism?\"})\n",
    "print(response[\"answer\"])"
   ]
  },
  {
   "cell_type": "code",
   "execution_count": null,
   "id": "f4517ab7",
   "metadata": {},
   "outputs": [
    {
     "name": "stdout",
     "output_type": "stream",
     "text": [
      "The treatment of acne depends on its severity. For mild noninflammatory acne, topical treatments such as tretinoin, benzoyl peroxide, adapalene, or salicylic acid are recommended. For inflammatory acne, additional methods like topical antibiotics may be used, while severe cases may require treatments like isotretinoin.\n"
     ]
    }
   ],
   "source": [
    "response = rag_chain.invoke({\"input\": \"what is Acne?\"})\n",
    "print(response[\"answer\"])"
   ]
  }
 ],
 "metadata": {
  "kernelspec": {
   "display_name": "medibot",
   "language": "python",
   "name": "python3"
  },
  "language_info": {
   "codemirror_mode": {
    "name": "ipython",
    "version": 3
   },
   "file_extension": ".py",
   "mimetype": "text/x-python",
   "name": "python",
   "nbconvert_exporter": "python",
   "pygments_lexer": "ipython3",
   "version": "3.10.18"
  }
 },
 "nbformat": 4,
 "nbformat_minor": 5
}
